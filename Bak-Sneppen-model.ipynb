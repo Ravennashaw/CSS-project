{
 "cells": [
  {
   "cell_type": "code",
   "execution_count": null,
   "id": "1240f0a4",
   "metadata": {},
   "outputs": [],
   "source": [
    "import numpy as np\n",
    "import matplotlib.pyplot as plt\n",
    "import matplotlib.animation as animation\n",
    "import pandas as pd"
   ]
  },
  {
   "cell_type": "markdown",
   "id": "e5ab3fd9",
   "metadata": {},
   "source": [
    "## Creating Bak-Sneppen model"
   ]
  },
  {
   "cell_type": "markdown",
   "id": "5f551438",
   "metadata": {},
   "source": [
    "Steps:\n",
    "Inititalize percolation grid\n",
    "Start time loop\n",
    "For every time iteration:\n",
    "    Calculate probabilities that neighbours change"
   ]
  },
  {
   "cell_type": "code",
   "execution_count": 1,
   "id": "aa25f620",
   "metadata": {},
   "outputs": [],
   "source": [
    "class SimulationGrid:\n",
    "    def __init__(self, size, low=0.0, high=1.0):\n",
    "        self.size = size\n",
    "        self.threshold = []\n",
    "        self.low = low\n",
    "        self.high = high\n",
    "        self.fitness_max = -1\n",
    "        self.history = []\n",
    "        self.num_iterations = 0\n",
    "        self.avalanche_length = []\n",
    "        self.current = self.initialize_grid()\n",
    "\n",
    "    def restart(self):\n",
    "        self.current = self.initialize_grid()\n",
    "        self.history = []\n",
    "        self.threshold_fitness = []\n",
    "        self.fitness_max = -1\n",
    "\n",
    "    def initialize_grid(self):\n",
    "        return np.array([[np.random.uniform(self.low, self.high) for _ in range(self.size)] for _ in range(self.size)])\n",
    "\n",
    "    def visualize(self):\n",
    "        cmap = 'viridis'\n",
    "        plt.imshow(self.current, cmap=cmap, interpolation='nearest')\n",
    "        plt.title('2D Grid Initialized with Uniform Distribution')\n",
    "        plt.colorbar()\n",
    "        plt.show()\n",
    "\n",
    "    def draw_value(self):\n",
    "#         return np.random.normal(loc=self.mean, scale=self.std, size=(self.size, self.size))\n",
    "        return np.random.uniform(self.low, self.high)\n",
    "\n",
    "    def avalanche_frequencies(self):  \n",
    "        freq = {}\n",
    "        for value in self.avalanche_length:\n",
    "            if value in freq:\n",
    "                freq[value] += 1\n",
    "            else:\n",
    "                freq[value] = 1\n",
    "                \n",
    "        lst = np.array([[key,freq[key]] for key in freq])\n",
    "        return lst\n",
    "\n",
    "    def run_iterations(self, iterations, dx=None):\n",
    "        self.num_iterations= iterations\n",
    "        avalanche_size = 0\n",
    "        for t in range(iterations):\n",
    "            \n",
    "            self.history.append(self.current.copy())  # Use copy to save the state, not a reference\n",
    "\n",
    "            # Getting min index and saving minimum value\n",
    "            min_index = np.unravel_index(self.current.argmin(), self.current.shape)\n",
    "            minimum = self.current[min_index[0], min_index[1]]\n",
    "            \n",
    "            #Updating fitness threshold and saving\n",
    "            avalanche_size += 1\n",
    "            if  self.fitness_max < minimum:\n",
    "                    self.avalanche_length.append(avalanche_size-1)\n",
    "                    self.threshold.append(minimum)\n",
    "                    self.fitness_max = minimum\n",
    "                    avalanche_size = 0 \n",
    "            \n",
    "\n",
    "            # I could make this part more efficient but too lazy for now\n",
    "            neighbors = [\n",
    "                (min_index[0] - 1, min_index[1]),  # Above\n",
    "                (min_index[0] + 1, min_index[1]),  # Below\n",
    "                (min_index[0], min_index[1] - 1),  # Left\n",
    "                (min_index[0], min_index[1] + 1)   # Right\n",
    "            ]\n",
    "\n",
    "            # Keeping only 'useful' indexes\n",
    "            indices = [(i, j) for i, j in neighbors if 0 <= i < self.current.shape[0] and 0 <= j < self.current.shape[1]]\n",
    "\n",
    "            # Updating neighbors and worst value\n",
    "            for index in indices:\n",
    "                i, j = index\n",
    "                self.current[i, j] = self.draw_value()\n",
    "\n",
    "            self.current[min_index[0], min_index[1]] = self.draw_value()\n",
    "\n",
    "# An avalanche is a cascade of fitness changes below the threshold (i.e. all the blinking dots below the\n",
    "# line), although this behavior also results in random fitness changes above the line. An avalanche lasts\n",
    "# as long as any activity remains below the threshold, and the length of the avalanche is the number of\n",
    "# mutations below the threshold."
   ]
  },
  {
   "cell_type": "markdown",
   "id": "58b32346",
   "metadata": {},
   "source": [
    "## Running and visualizing grid"
   ]
  },
  {
   "cell_type": "code",
   "execution_count": null,
   "id": "9d1ba11b",
   "metadata": {},
   "outputs": [],
   "source": [
    "test = SimulationGrid(100)\n",
    "test.visualize()\n",
    "plt.show()\n",
    "\n",
    "test.run_iterations(100000)\n",
    "# test = grid.current\n",
    "test.visualize()"
   ]
  },
  {
   "cell_type": "markdown",
   "id": "3ca67508",
   "metadata": {},
   "source": [
    "### Avalanche size frequency distribution"
   ]
  },
  {
   "cell_type": "code",
   "execution_count": null,
   "id": "5ddb1f33",
   "metadata": {},
   "outputs": [],
   "source": [
    "frequencies = test.avalanche_frequencies()\n",
    "# print(frequencies.shape)\n",
    "# print(frequencies)\n",
    "# print()\n",
    "# print(frequencies[:,0])\n",
    "plt.scatter(frequencies[:,0],frequencies[:,1])\n",
    "plt.ylabel('frequency')\n",
    "plt.xlabel('size')\n",
    "plt.xscale('log')\n",
    "plt.yscale('log')\n",
    "# plt.plot(frequencies[])"
   ]
  },
  {
   "cell_type": "markdown",
   "id": "bc2ff2ae",
   "metadata": {},
   "source": [
    "### Reading index data"
   ]
  },
  {
   "cell_type": "code",
   "execution_count": null,
   "id": "c6b5d67e",
   "metadata": {},
   "outputs": [],
   "source": [
    "# data = pd.read_excel('HistoricalData_1706009818888.csv', engine='openpyxl')\n",
    "data = pd.read_csv('HistoricalData_1706009818888.csv')\n",
    "index = data[['Close/Last']].to_numpy()[::-1]\n",
    "data['LogReturns'] = df[price_column].pct_change().apply(lambda x: 0 if pd.isna(x) else np.log(1 + x))\n",
    "\n",
    "plt.plot(index)\n",
    "plt.show()"
   ]
  }
 ],
 "metadata": {
  "kernelspec": {
   "display_name": "Python 3 (ipykernel)",
   "language": "python",
   "name": "python3"
  },
  "language_info": {
   "codemirror_mode": {
    "name": "ipython",
    "version": 3
   },
   "file_extension": ".py",
   "mimetype": "text/x-python",
   "name": "python",
   "nbconvert_exporter": "python",
   "pygments_lexer": "ipython3",
   "version": "3.11.4"
  }
 },
 "nbformat": 4,
 "nbformat_minor": 5
}
